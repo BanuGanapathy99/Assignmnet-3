{
 "cells": [
  {
   "cell_type": "markdown",
   "id": "89bfbb6d",
   "metadata": {},
   "source": [
    "## `Write a Python function to sum all the numbers in a list.`\n"
   ]
  },
  {
   "cell_type": "code",
   "execution_count": 3,
   "id": "1567b425",
   "metadata": {},
   "outputs": [
    {
     "name": "stdout",
     "output_type": "stream",
     "text": [
      "Enter number of elements : 2\n",
      "1\n",
      "2\n",
      "The sum of the elements in the list :  3\n"
     ]
    }
   ],
   "source": [
    "l = []\n",
    "no = int(input(\"Enter number of elements : \"))\n",
    "for i in range(0, no):\n",
    "    elem = int(input())\n",
    "    l.append(elem) \n",
    "def sum(numbers):\n",
    "    total = 0\n",
    "    for x in numbers:\n",
    "        total += x\n",
    "    return total\n",
    "print(\"The sum of the elements in the list : \",sum(l))"
   ]
  },
  {
   "cell_type": "markdown",
   "id": "89f26431",
   "metadata": {},
   "source": [
    "## `Write a Python program to reverse a string.`"
   ]
  },
  {
   "cell_type": "code",
   "execution_count": 5,
   "id": "447c772a",
   "metadata": {},
   "outputs": [
    {
     "name": "stdout",
     "output_type": "stream",
     "text": [
      "Enter the input string : qwertyuiop123\n",
      "321poiuytrewq\n"
     ]
    }
   ],
   "source": [
    "str=input(\"Enter the input string : \")\n",
    "def string_reverse(str1):\n",
    "    rstr1 = ''\n",
    "    index = len(str1)\n",
    "    while index > 0:\n",
    "        rstr1 += str1[ index - 1 ]\n",
    "        index = index - 1\n",
    "    return rstr1\n",
    "print(string_reverse(str))"
   ]
  },
  {
   "cell_type": "markdown",
   "id": "dded8639",
   "metadata": {},
   "source": [
    "## `Write a Python function that accepts a string and calculate the number of upper case letters and lower case letters.`"
   ]
  },
  {
   "cell_type": "code",
   "execution_count": 8,
   "id": "89c8e222",
   "metadata": {},
   "outputs": [
    {
     "name": "stdout",
     "output_type": "stream",
     "text": [
      "Enter the input string : QWERrtyui\n",
      "Original String :  QWERrtyui\n",
      "No. of Upper case characters :  4\n",
      "No. of Lower case Characters :  5\n"
     ]
    }
   ],
   "source": [
    "str=input(\"Enter the input string : \")\n",
    "def string_test(s):\n",
    "    d={\"UPPER_CASE\":0, \"LOWER_CASE\":0}\n",
    "    for c in s:\n",
    "        if c.isupper():\n",
    "           d[\"UPPER_CASE\"]+=1\n",
    "        elif c.islower():\n",
    "           d[\"LOWER_CASE\"]+=1\n",
    "        else:\n",
    "           pass\n",
    "    print (\"Original String : \", s)\n",
    "    print (\"No. of Upper case characters : \", d[\"UPPER_CASE\"])\n",
    "    print (\"No. of Lower case Characters : \", d[\"LOWER_CASE\"])\n",
    "\n",
    "string_test(str)"
   ]
  },
  {
   "cell_type": "code",
   "execution_count": null,
   "id": "5fc25de6",
   "metadata": {},
   "outputs": [],
   "source": []
  }
 ],
 "metadata": {
  "kernelspec": {
   "display_name": "Python 3 (ipykernel)",
   "language": "python",
   "name": "python3"
  },
  "language_info": {
   "codemirror_mode": {
    "name": "ipython",
    "version": 3
   },
   "file_extension": ".py",
   "mimetype": "text/x-python",
   "name": "python",
   "nbconvert_exporter": "python",
   "pygments_lexer": "ipython3",
   "version": "3.10.0"
  }
 },
 "nbformat": 4,
 "nbformat_minor": 5
}
